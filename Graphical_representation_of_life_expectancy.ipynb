{
  "nbformat": 4,
  "nbformat_minor": 0,
  "metadata": {
    "colab": {
      "provenance": [],
      "authorship_tag": "ABX9TyOj/VuCThxSVuNmdWetDSBE",
      "include_colab_link": true
    },
    "kernelspec": {
      "name": "python3",
      "display_name": "Python 3"
    },
    "language_info": {
      "name": "python"
    }
  },
  "cells": [
    {
      "cell_type": "markdown",
      "metadata": {
        "id": "view-in-github",
        "colab_type": "text"
      },
      "source": [
        "<a href=\"https://colab.research.google.com/github/SanjanaS183/Graphical-representation-of-life-expectancy/blob/main/Graphical_representation_of_life_expectancy.ipynb\" target=\"_parent\"><img src=\"https://colab.research.google.com/assets/colab-badge.svg\" alt=\"Open In Colab\"/></a>"
      ]
    },
    {
      "cell_type": "markdown",
      "source": [
        "Import the UN’s Population Growth, Fertility and Mortality Indicators from http://data.un.org/_Docs/SYB/CSV/SYB64_246_202110_Population%20Growth,%20Fertility%20and%20Mortality%20Indicators.csv\n"
      ],
      "metadata": {
        "id": "jaceX2IaOAoZ"
      }
    },
    {
      "cell_type": "markdown",
      "source": [
        "Pandas and Numpy libraries are imported.\n",
        "Using the URL, the dataset is loaded into Pandas Dataframe."
      ],
      "metadata": {
        "id": "KYqRllxLdZU3"
      }
    },
    {
      "cell_type": "code",
      "execution_count": null,
      "metadata": {
        "id": "mRy7Emha8gsP",
        "colab": {
          "base_uri": "https://localhost:8080/",
          "height": 641
        },
        "outputId": "6b12611b-a68e-47d1-de32-b25454180938"
      },
      "outputs": [
        {
          "output_type": "execute_result",
          "data": {
            "text/plain": [
              "      Region/Country/Area                     Unnamed: 1  Year  \\\n",
              "0                       1  Total, all countries or areas  2010   \n",
              "1                       1  Total, all countries or areas  2010   \n",
              "2                       1  Total, all countries or areas  2010   \n",
              "3                       1  Total, all countries or areas  2010   \n",
              "4                       1  Total, all countries or areas  2010   \n",
              "...                   ...                            ...   ...   \n",
              "4894                  716                       Zimbabwe  2020   \n",
              "4895                  716                       Zimbabwe  2020   \n",
              "4896                  716                       Zimbabwe  2020   \n",
              "4897                  716                       Zimbabwe  2020   \n",
              "4898                  716                       Zimbabwe  2020   \n",
              "\n",
              "                                                 Series Value  \\\n",
              "0          Population annual rate of increase (percent)   1.2   \n",
              "1             Total fertility rate (children per women)   2.6   \n",
              "2     Infant mortality for both sexes (per 1,000 liv...  41.0   \n",
              "3     Maternal mortality ratio (deaths per 100,000 p...   248   \n",
              "4       Life expectancy at birth for both sexes (years)  68.9   \n",
              "...                                                 ...   ...   \n",
              "4894          Total fertility rate (children per women)   3.6   \n",
              "4895  Infant mortality for both sexes (per 1,000 liv...  38.7   \n",
              "4896    Life expectancy at birth for both sexes (years)  60.8   \n",
              "4897         Life expectancy at birth for males (years)  59.2   \n",
              "4898       Life expectancy at birth for females (years)  62.2   \n",
              "\n",
              "                                              Footnotes  \\\n",
              "0     Data refers to a 5-year period preceding the r...   \n",
              "1     Data refers to a 5-year period preceding the r...   \n",
              "2     Data refers to a 5-year period preceding the r...   \n",
              "3                                                   NaN   \n",
              "4     Data refers to a 5-year period preceding the r...   \n",
              "...                                                 ...   \n",
              "4894  Data refers to a 5-year period preceding the r...   \n",
              "4895  Data refers to a 5-year period preceding the r...   \n",
              "4896  Data refers to a 5-year period preceding the r...   \n",
              "4897  Data refers to a 5-year period preceding the r...   \n",
              "4898  Data refers to a 5-year period preceding the r...   \n",
              "\n",
              "                                                 Source  \n",
              "0     United Nations Population Division, New York, ...  \n",
              "1     United Nations Population Division, New York, ...  \n",
              "2     United Nations Statistics Division, New York, ...  \n",
              "3     World Health Organization (WHO), the United Na...  \n",
              "4     United Nations Population Division, New York, ...  \n",
              "...                                                 ...  \n",
              "4894  United Nations Population Division, New York, ...  \n",
              "4895  United Nations Statistics Division, New York, ...  \n",
              "4896  United Nations Population Division, New York, ...  \n",
              "4897  United Nations Population Division, New York, ...  \n",
              "4898  United Nations Population Division, New York, ...  \n",
              "\n",
              "[4899 rows x 7 columns]"
            ],
            "text/html": [
              "\n",
              "  <div id=\"df-78978cd1-0c03-4b63-98ed-e9f4def840a6\">\n",
              "    <div class=\"colab-df-container\">\n",
              "      <div>\n",
              "<style scoped>\n",
              "    .dataframe tbody tr th:only-of-type {\n",
              "        vertical-align: middle;\n",
              "    }\n",
              "\n",
              "    .dataframe tbody tr th {\n",
              "        vertical-align: top;\n",
              "    }\n",
              "\n",
              "    .dataframe thead th {\n",
              "        text-align: right;\n",
              "    }\n",
              "</style>\n",
              "<table border=\"1\" class=\"dataframe\">\n",
              "  <thead>\n",
              "    <tr style=\"text-align: right;\">\n",
              "      <th></th>\n",
              "      <th>Region/Country/Area</th>\n",
              "      <th>Unnamed: 1</th>\n",
              "      <th>Year</th>\n",
              "      <th>Series</th>\n",
              "      <th>Value</th>\n",
              "      <th>Footnotes</th>\n",
              "      <th>Source</th>\n",
              "    </tr>\n",
              "  </thead>\n",
              "  <tbody>\n",
              "    <tr>\n",
              "      <th>0</th>\n",
              "      <td>1</td>\n",
              "      <td>Total, all countries or areas</td>\n",
              "      <td>2010</td>\n",
              "      <td>Population annual rate of increase (percent)</td>\n",
              "      <td>1.2</td>\n",
              "      <td>Data refers to a 5-year period preceding the r...</td>\n",
              "      <td>United Nations Population Division, New York, ...</td>\n",
              "    </tr>\n",
              "    <tr>\n",
              "      <th>1</th>\n",
              "      <td>1</td>\n",
              "      <td>Total, all countries or areas</td>\n",
              "      <td>2010</td>\n",
              "      <td>Total fertility rate (children per women)</td>\n",
              "      <td>2.6</td>\n",
              "      <td>Data refers to a 5-year period preceding the r...</td>\n",
              "      <td>United Nations Population Division, New York, ...</td>\n",
              "    </tr>\n",
              "    <tr>\n",
              "      <th>2</th>\n",
              "      <td>1</td>\n",
              "      <td>Total, all countries or areas</td>\n",
              "      <td>2010</td>\n",
              "      <td>Infant mortality for both sexes (per 1,000 liv...</td>\n",
              "      <td>41.0</td>\n",
              "      <td>Data refers to a 5-year period preceding the r...</td>\n",
              "      <td>United Nations Statistics Division, New York, ...</td>\n",
              "    </tr>\n",
              "    <tr>\n",
              "      <th>3</th>\n",
              "      <td>1</td>\n",
              "      <td>Total, all countries or areas</td>\n",
              "      <td>2010</td>\n",
              "      <td>Maternal mortality ratio (deaths per 100,000 p...</td>\n",
              "      <td>248</td>\n",
              "      <td>NaN</td>\n",
              "      <td>World Health Organization (WHO), the United Na...</td>\n",
              "    </tr>\n",
              "    <tr>\n",
              "      <th>4</th>\n",
              "      <td>1</td>\n",
              "      <td>Total, all countries or areas</td>\n",
              "      <td>2010</td>\n",
              "      <td>Life expectancy at birth for both sexes (years)</td>\n",
              "      <td>68.9</td>\n",
              "      <td>Data refers to a 5-year period preceding the r...</td>\n",
              "      <td>United Nations Population Division, New York, ...</td>\n",
              "    </tr>\n",
              "    <tr>\n",
              "      <th>...</th>\n",
              "      <td>...</td>\n",
              "      <td>...</td>\n",
              "      <td>...</td>\n",
              "      <td>...</td>\n",
              "      <td>...</td>\n",
              "      <td>...</td>\n",
              "      <td>...</td>\n",
              "    </tr>\n",
              "    <tr>\n",
              "      <th>4894</th>\n",
              "      <td>716</td>\n",
              "      <td>Zimbabwe</td>\n",
              "      <td>2020</td>\n",
              "      <td>Total fertility rate (children per women)</td>\n",
              "      <td>3.6</td>\n",
              "      <td>Data refers to a 5-year period preceding the r...</td>\n",
              "      <td>United Nations Population Division, New York, ...</td>\n",
              "    </tr>\n",
              "    <tr>\n",
              "      <th>4895</th>\n",
              "      <td>716</td>\n",
              "      <td>Zimbabwe</td>\n",
              "      <td>2020</td>\n",
              "      <td>Infant mortality for both sexes (per 1,000 liv...</td>\n",
              "      <td>38.7</td>\n",
              "      <td>Data refers to a 5-year period preceding the r...</td>\n",
              "      <td>United Nations Statistics Division, New York, ...</td>\n",
              "    </tr>\n",
              "    <tr>\n",
              "      <th>4896</th>\n",
              "      <td>716</td>\n",
              "      <td>Zimbabwe</td>\n",
              "      <td>2020</td>\n",
              "      <td>Life expectancy at birth for both sexes (years)</td>\n",
              "      <td>60.8</td>\n",
              "      <td>Data refers to a 5-year period preceding the r...</td>\n",
              "      <td>United Nations Population Division, New York, ...</td>\n",
              "    </tr>\n",
              "    <tr>\n",
              "      <th>4897</th>\n",
              "      <td>716</td>\n",
              "      <td>Zimbabwe</td>\n",
              "      <td>2020</td>\n",
              "      <td>Life expectancy at birth for males (years)</td>\n",
              "      <td>59.2</td>\n",
              "      <td>Data refers to a 5-year period preceding the r...</td>\n",
              "      <td>United Nations Population Division, New York, ...</td>\n",
              "    </tr>\n",
              "    <tr>\n",
              "      <th>4898</th>\n",
              "      <td>716</td>\n",
              "      <td>Zimbabwe</td>\n",
              "      <td>2020</td>\n",
              "      <td>Life expectancy at birth for females (years)</td>\n",
              "      <td>62.2</td>\n",
              "      <td>Data refers to a 5-year period preceding the r...</td>\n",
              "      <td>United Nations Population Division, New York, ...</td>\n",
              "    </tr>\n",
              "  </tbody>\n",
              "</table>\n",
              "<p>4899 rows × 7 columns</p>\n",
              "</div>\n",
              "      <button class=\"colab-df-convert\" onclick=\"convertToInteractive('df-78978cd1-0c03-4b63-98ed-e9f4def840a6')\"\n",
              "              title=\"Convert this dataframe to an interactive table.\"\n",
              "              style=\"display:none;\">\n",
              "        \n",
              "  <svg xmlns=\"http://www.w3.org/2000/svg\" height=\"24px\"viewBox=\"0 0 24 24\"\n",
              "       width=\"24px\">\n",
              "    <path d=\"M0 0h24v24H0V0z\" fill=\"none\"/>\n",
              "    <path d=\"M18.56 5.44l.94 2.06.94-2.06 2.06-.94-2.06-.94-.94-2.06-.94 2.06-2.06.94zm-11 1L8.5 8.5l.94-2.06 2.06-.94-2.06-.94L8.5 2.5l-.94 2.06-2.06.94zm10 10l.94 2.06.94-2.06 2.06-.94-2.06-.94-.94-2.06-.94 2.06-2.06.94z\"/><path d=\"M17.41 7.96l-1.37-1.37c-.4-.4-.92-.59-1.43-.59-.52 0-1.04.2-1.43.59L10.3 9.45l-7.72 7.72c-.78.78-.78 2.05 0 2.83L4 21.41c.39.39.9.59 1.41.59.51 0 1.02-.2 1.41-.59l7.78-7.78 2.81-2.81c.8-.78.8-2.07 0-2.86zM5.41 20L4 18.59l7.72-7.72 1.47 1.35L5.41 20z\"/>\n",
              "  </svg>\n",
              "      </button>\n",
              "      \n",
              "  <style>\n",
              "    .colab-df-container {\n",
              "      display:flex;\n",
              "      flex-wrap:wrap;\n",
              "      gap: 12px;\n",
              "    }\n",
              "\n",
              "    .colab-df-convert {\n",
              "      background-color: #E8F0FE;\n",
              "      border: none;\n",
              "      border-radius: 50%;\n",
              "      cursor: pointer;\n",
              "      display: none;\n",
              "      fill: #1967D2;\n",
              "      height: 32px;\n",
              "      padding: 0 0 0 0;\n",
              "      width: 32px;\n",
              "    }\n",
              "\n",
              "    .colab-df-convert:hover {\n",
              "      background-color: #E2EBFA;\n",
              "      box-shadow: 0px 1px 2px rgba(60, 64, 67, 0.3), 0px 1px 3px 1px rgba(60, 64, 67, 0.15);\n",
              "      fill: #174EA6;\n",
              "    }\n",
              "\n",
              "    [theme=dark] .colab-df-convert {\n",
              "      background-color: #3B4455;\n",
              "      fill: #D2E3FC;\n",
              "    }\n",
              "\n",
              "    [theme=dark] .colab-df-convert:hover {\n",
              "      background-color: #434B5C;\n",
              "      box-shadow: 0px 1px 3px 1px rgba(0, 0, 0, 0.15);\n",
              "      filter: drop-shadow(0px 1px 2px rgba(0, 0, 0, 0.3));\n",
              "      fill: #FFFFFF;\n",
              "    }\n",
              "  </style>\n",
              "\n",
              "      <script>\n",
              "        const buttonEl =\n",
              "          document.querySelector('#df-78978cd1-0c03-4b63-98ed-e9f4def840a6 button.colab-df-convert');\n",
              "        buttonEl.style.display =\n",
              "          google.colab.kernel.accessAllowed ? 'block' : 'none';\n",
              "\n",
              "        async function convertToInteractive(key) {\n",
              "          const element = document.querySelector('#df-78978cd1-0c03-4b63-98ed-e9f4def840a6');\n",
              "          const dataTable =\n",
              "            await google.colab.kernel.invokeFunction('convertToInteractive',\n",
              "                                                     [key], {});\n",
              "          if (!dataTable) return;\n",
              "\n",
              "          const docLinkHtml = 'Like what you see? Visit the ' +\n",
              "            '<a target=\"_blank\" href=https://colab.research.google.com/notebooks/data_table.ipynb>data table notebook</a>'\n",
              "            + ' to learn more about interactive tables.';\n",
              "          element.innerHTML = '';\n",
              "          dataTable['output_type'] = 'display_data';\n",
              "          await google.colab.output.renderOutput(dataTable, element);\n",
              "          const docLink = document.createElement('div');\n",
              "          docLink.innerHTML = docLinkHtml;\n",
              "          element.appendChild(docLink);\n",
              "        }\n",
              "      </script>\n",
              "    </div>\n",
              "  </div>\n",
              "  "
            ]
          },
          "metadata": {},
          "execution_count": 25
        }
      ],
      "source": [
        "import pandas as pd\n",
        "import numpy as np\n",
        "import warnings\n",
        "warnings.filterwarnings(\"ignore\")\n",
        "# Reading the file using the url\n",
        "url = 'http://data.un.org/_Docs/SYB/CSV/SYB64_246_202110_Population%20Growth,%20Fertility%20and%20Mortality%20Indicators.csv'\n",
        "df = pd.read_csv(url, encoding = 'Latin-1', header = 1)\n",
        "#Displaying the dataframe\n",
        "df\n"
      ]
    },
    {
      "cell_type": "code",
      "source": [
        "df.columns"
      ],
      "metadata": {
        "id": "g-USZaOVHaWv",
        "colab": {
          "base_uri": "https://localhost:8080/"
        },
        "outputId": "7fdac022-0314-469b-d306-7cd7b6c790f8"
      },
      "execution_count": null,
      "outputs": [
        {
          "output_type": "execute_result",
          "data": {
            "text/plain": [
              "Index(['Region/Country/Area', 'Unnamed: 1', 'Year', 'Series', 'Value',\n",
              "       'Footnotes', 'Source'],\n",
              "      dtype='object')"
            ]
          },
          "metadata": {},
          "execution_count": 26
        }
      ]
    },
    {
      "cell_type": "markdown",
      "source": [
        "\n",
        "1) Rows having Life expectancy data and year as 2020 are selected. They are then loaded into a new data frame. \n",
        "\n",
        "2) Using the drop function, the first 30 rows which contain data related to continents and areas are removed.\n",
        "\n",
        "3) The column value is loaded into a new dataframe.\n",
        "\n",
        "4)It is then converted into a numpy array.\n",
        "\n",
        "5) The size of the array is found"
      ],
      "metadata": {
        "id": "MjccOAl-eOIX"
      }
    },
    {
      "cell_type": "code",
      "source": [
        "# only keeping life expectancy rows which have year as 2020\n",
        "df1 = df[(df.Series == 'Life expectancy at birth for both sexes (years)') & (df.Year == 2020)]\n",
        "df1"
      ],
      "metadata": {
        "id": "4oJIOeYgH_RY",
        "colab": {
          "base_uri": "https://localhost:8080/",
          "height": 641
        },
        "outputId": "c831c18c-9d2d-4bf2-973f-47717fb07260"
      },
      "execution_count": null,
      "outputs": [
        {
          "output_type": "execute_result",
          "data": {
            "text/plain": [
              "      Region/Country/Area                     Unnamed: 1  Year  \\\n",
              "18                      1  Total, all countries or areas  2020   \n",
              "36                      2                         Africa  2020   \n",
              "57                     15                Northern Africa  2020   \n",
              "78                    202             Sub-Saharan Africa  2020   \n",
              "99                     14                 Eastern Africa  2020   \n",
              "...                   ...                            ...   ...   \n",
              "4812                  704                       Viet Nam  2020   \n",
              "4833                  732                 Western Sahara  2020   \n",
              "4854                  887                          Yemen  2020   \n",
              "4875                  894                         Zambia  2020   \n",
              "4896                  716                       Zimbabwe  2020   \n",
              "\n",
              "                                               Series Value  \\\n",
              "18    Life expectancy at birth for both sexes (years)  72.3   \n",
              "36    Life expectancy at birth for both sexes (years)  62.7   \n",
              "57    Life expectancy at birth for both sexes (years)  72.3   \n",
              "78    Life expectancy at birth for both sexes (years)  60.5   \n",
              "99    Life expectancy at birth for both sexes (years)  64.2   \n",
              "...                                               ...   ...   \n",
              "4812  Life expectancy at birth for both sexes (years)  75.3   \n",
              "4833  Life expectancy at birth for both sexes (years)  69.9   \n",
              "4854  Life expectancy at birth for both sexes (years)  66.0   \n",
              "4875  Life expectancy at birth for both sexes (years)  63.3   \n",
              "4896  Life expectancy at birth for both sexes (years)  60.8   \n",
              "\n",
              "                                              Footnotes  \\\n",
              "18    Data refers to a 5-year period preceding the r...   \n",
              "36    Data refers to a 5-year period preceding the r...   \n",
              "57    Data refers to a 5-year period preceding the r...   \n",
              "78    Data refers to a 5-year period preceding the r...   \n",
              "99    Data refers to a 5-year period preceding the r...   \n",
              "...                                                 ...   \n",
              "4812  Data refers to a 5-year period preceding the r...   \n",
              "4833  Data refers to a 5-year period preceding the r...   \n",
              "4854  Data refers to a 5-year period preceding the r...   \n",
              "4875  Data refers to a 5-year period preceding the r...   \n",
              "4896  Data refers to a 5-year period preceding the r...   \n",
              "\n",
              "                                                 Source  \n",
              "18    United Nations Population Division, New York, ...  \n",
              "36    United Nations Population Division, New York, ...  \n",
              "57    United Nations Population Division, New York, ...  \n",
              "78    United Nations Population Division, New York, ...  \n",
              "99    United Nations Population Division, New York, ...  \n",
              "...                                                 ...  \n",
              "4812  United Nations Population Division, New York, ...  \n",
              "4833  United Nations Population Division, New York, ...  \n",
              "4854  United Nations Population Division, New York, ...  \n",
              "4875  United Nations Population Division, New York, ...  \n",
              "4896  United Nations Population Division, New York, ...  \n",
              "\n",
              "[231 rows x 7 columns]"
            ],
            "text/html": [
              "\n",
              "  <div id=\"df-08540adf-3737-4ae4-83f1-9ffd146bfaa8\">\n",
              "    <div class=\"colab-df-container\">\n",
              "      <div>\n",
              "<style scoped>\n",
              "    .dataframe tbody tr th:only-of-type {\n",
              "        vertical-align: middle;\n",
              "    }\n",
              "\n",
              "    .dataframe tbody tr th {\n",
              "        vertical-align: top;\n",
              "    }\n",
              "\n",
              "    .dataframe thead th {\n",
              "        text-align: right;\n",
              "    }\n",
              "</style>\n",
              "<table border=\"1\" class=\"dataframe\">\n",
              "  <thead>\n",
              "    <tr style=\"text-align: right;\">\n",
              "      <th></th>\n",
              "      <th>Region/Country/Area</th>\n",
              "      <th>Unnamed: 1</th>\n",
              "      <th>Year</th>\n",
              "      <th>Series</th>\n",
              "      <th>Value</th>\n",
              "      <th>Footnotes</th>\n",
              "      <th>Source</th>\n",
              "    </tr>\n",
              "  </thead>\n",
              "  <tbody>\n",
              "    <tr>\n",
              "      <th>18</th>\n",
              "      <td>1</td>\n",
              "      <td>Total, all countries or areas</td>\n",
              "      <td>2020</td>\n",
              "      <td>Life expectancy at birth for both sexes (years)</td>\n",
              "      <td>72.3</td>\n",
              "      <td>Data refers to a 5-year period preceding the r...</td>\n",
              "      <td>United Nations Population Division, New York, ...</td>\n",
              "    </tr>\n",
              "    <tr>\n",
              "      <th>36</th>\n",
              "      <td>2</td>\n",
              "      <td>Africa</td>\n",
              "      <td>2020</td>\n",
              "      <td>Life expectancy at birth for both sexes (years)</td>\n",
              "      <td>62.7</td>\n",
              "      <td>Data refers to a 5-year period preceding the r...</td>\n",
              "      <td>United Nations Population Division, New York, ...</td>\n",
              "    </tr>\n",
              "    <tr>\n",
              "      <th>57</th>\n",
              "      <td>15</td>\n",
              "      <td>Northern Africa</td>\n",
              "      <td>2020</td>\n",
              "      <td>Life expectancy at birth for both sexes (years)</td>\n",
              "      <td>72.3</td>\n",
              "      <td>Data refers to a 5-year period preceding the r...</td>\n",
              "      <td>United Nations Population Division, New York, ...</td>\n",
              "    </tr>\n",
              "    <tr>\n",
              "      <th>78</th>\n",
              "      <td>202</td>\n",
              "      <td>Sub-Saharan Africa</td>\n",
              "      <td>2020</td>\n",
              "      <td>Life expectancy at birth for both sexes (years)</td>\n",
              "      <td>60.5</td>\n",
              "      <td>Data refers to a 5-year period preceding the r...</td>\n",
              "      <td>United Nations Population Division, New York, ...</td>\n",
              "    </tr>\n",
              "    <tr>\n",
              "      <th>99</th>\n",
              "      <td>14</td>\n",
              "      <td>Eastern Africa</td>\n",
              "      <td>2020</td>\n",
              "      <td>Life expectancy at birth for both sexes (years)</td>\n",
              "      <td>64.2</td>\n",
              "      <td>Data refers to a 5-year period preceding the r...</td>\n",
              "      <td>United Nations Population Division, New York, ...</td>\n",
              "    </tr>\n",
              "    <tr>\n",
              "      <th>...</th>\n",
              "      <td>...</td>\n",
              "      <td>...</td>\n",
              "      <td>...</td>\n",
              "      <td>...</td>\n",
              "      <td>...</td>\n",
              "      <td>...</td>\n",
              "      <td>...</td>\n",
              "    </tr>\n",
              "    <tr>\n",
              "      <th>4812</th>\n",
              "      <td>704</td>\n",
              "      <td>Viet Nam</td>\n",
              "      <td>2020</td>\n",
              "      <td>Life expectancy at birth for both sexes (years)</td>\n",
              "      <td>75.3</td>\n",
              "      <td>Data refers to a 5-year period preceding the r...</td>\n",
              "      <td>United Nations Population Division, New York, ...</td>\n",
              "    </tr>\n",
              "    <tr>\n",
              "      <th>4833</th>\n",
              "      <td>732</td>\n",
              "      <td>Western Sahara</td>\n",
              "      <td>2020</td>\n",
              "      <td>Life expectancy at birth for both sexes (years)</td>\n",
              "      <td>69.9</td>\n",
              "      <td>Data refers to a 5-year period preceding the r...</td>\n",
              "      <td>United Nations Population Division, New York, ...</td>\n",
              "    </tr>\n",
              "    <tr>\n",
              "      <th>4854</th>\n",
              "      <td>887</td>\n",
              "      <td>Yemen</td>\n",
              "      <td>2020</td>\n",
              "      <td>Life expectancy at birth for both sexes (years)</td>\n",
              "      <td>66.0</td>\n",
              "      <td>Data refers to a 5-year period preceding the r...</td>\n",
              "      <td>United Nations Population Division, New York, ...</td>\n",
              "    </tr>\n",
              "    <tr>\n",
              "      <th>4875</th>\n",
              "      <td>894</td>\n",
              "      <td>Zambia</td>\n",
              "      <td>2020</td>\n",
              "      <td>Life expectancy at birth for both sexes (years)</td>\n",
              "      <td>63.3</td>\n",
              "      <td>Data refers to a 5-year period preceding the r...</td>\n",
              "      <td>United Nations Population Division, New York, ...</td>\n",
              "    </tr>\n",
              "    <tr>\n",
              "      <th>4896</th>\n",
              "      <td>716</td>\n",
              "      <td>Zimbabwe</td>\n",
              "      <td>2020</td>\n",
              "      <td>Life expectancy at birth for both sexes (years)</td>\n",
              "      <td>60.8</td>\n",
              "      <td>Data refers to a 5-year period preceding the r...</td>\n",
              "      <td>United Nations Population Division, New York, ...</td>\n",
              "    </tr>\n",
              "  </tbody>\n",
              "</table>\n",
              "<p>231 rows × 7 columns</p>\n",
              "</div>\n",
              "      <button class=\"colab-df-convert\" onclick=\"convertToInteractive('df-08540adf-3737-4ae4-83f1-9ffd146bfaa8')\"\n",
              "              title=\"Convert this dataframe to an interactive table.\"\n",
              "              style=\"display:none;\">\n",
              "        \n",
              "  <svg xmlns=\"http://www.w3.org/2000/svg\" height=\"24px\"viewBox=\"0 0 24 24\"\n",
              "       width=\"24px\">\n",
              "    <path d=\"M0 0h24v24H0V0z\" fill=\"none\"/>\n",
              "    <path d=\"M18.56 5.44l.94 2.06.94-2.06 2.06-.94-2.06-.94-.94-2.06-.94 2.06-2.06.94zm-11 1L8.5 8.5l.94-2.06 2.06-.94-2.06-.94L8.5 2.5l-.94 2.06-2.06.94zm10 10l.94 2.06.94-2.06 2.06-.94-2.06-.94-.94-2.06-.94 2.06-2.06.94z\"/><path d=\"M17.41 7.96l-1.37-1.37c-.4-.4-.92-.59-1.43-.59-.52 0-1.04.2-1.43.59L10.3 9.45l-7.72 7.72c-.78.78-.78 2.05 0 2.83L4 21.41c.39.39.9.59 1.41.59.51 0 1.02-.2 1.41-.59l7.78-7.78 2.81-2.81c.8-.78.8-2.07 0-2.86zM5.41 20L4 18.59l7.72-7.72 1.47 1.35L5.41 20z\"/>\n",
              "  </svg>\n",
              "      </button>\n",
              "      \n",
              "  <style>\n",
              "    .colab-df-container {\n",
              "      display:flex;\n",
              "      flex-wrap:wrap;\n",
              "      gap: 12px;\n",
              "    }\n",
              "\n",
              "    .colab-df-convert {\n",
              "      background-color: #E8F0FE;\n",
              "      border: none;\n",
              "      border-radius: 50%;\n",
              "      cursor: pointer;\n",
              "      display: none;\n",
              "      fill: #1967D2;\n",
              "      height: 32px;\n",
              "      padding: 0 0 0 0;\n",
              "      width: 32px;\n",
              "    }\n",
              "\n",
              "    .colab-df-convert:hover {\n",
              "      background-color: #E2EBFA;\n",
              "      box-shadow: 0px 1px 2px rgba(60, 64, 67, 0.3), 0px 1px 3px 1px rgba(60, 64, 67, 0.15);\n",
              "      fill: #174EA6;\n",
              "    }\n",
              "\n",
              "    [theme=dark] .colab-df-convert {\n",
              "      background-color: #3B4455;\n",
              "      fill: #D2E3FC;\n",
              "    }\n",
              "\n",
              "    [theme=dark] .colab-df-convert:hover {\n",
              "      background-color: #434B5C;\n",
              "      box-shadow: 0px 1px 3px 1px rgba(0, 0, 0, 0.15);\n",
              "      filter: drop-shadow(0px 1px 2px rgba(0, 0, 0, 0.3));\n",
              "      fill: #FFFFFF;\n",
              "    }\n",
              "  </style>\n",
              "\n",
              "      <script>\n",
              "        const buttonEl =\n",
              "          document.querySelector('#df-08540adf-3737-4ae4-83f1-9ffd146bfaa8 button.colab-df-convert');\n",
              "        buttonEl.style.display =\n",
              "          google.colab.kernel.accessAllowed ? 'block' : 'none';\n",
              "\n",
              "        async function convertToInteractive(key) {\n",
              "          const element = document.querySelector('#df-08540adf-3737-4ae4-83f1-9ffd146bfaa8');\n",
              "          const dataTable =\n",
              "            await google.colab.kernel.invokeFunction('convertToInteractive',\n",
              "                                                     [key], {});\n",
              "          if (!dataTable) return;\n",
              "\n",
              "          const docLinkHtml = 'Like what you see? Visit the ' +\n",
              "            '<a target=\"_blank\" href=https://colab.research.google.com/notebooks/data_table.ipynb>data table notebook</a>'\n",
              "            + ' to learn more about interactive tables.';\n",
              "          element.innerHTML = '';\n",
              "          dataTable['output_type'] = 'display_data';\n",
              "          await google.colab.output.renderOutput(dataTable, element);\n",
              "          const docLink = document.createElement('div');\n",
              "          docLink.innerHTML = docLinkHtml;\n",
              "          element.appendChild(docLink);\n",
              "        }\n",
              "      </script>\n",
              "    </div>\n",
              "  </div>\n",
              "  "
            ]
          },
          "metadata": {},
          "execution_count": 27
        }
      ]
    },
    {
      "cell_type": "code",
      "source": [
        "#Dropping rows with regions and continents \n",
        "df1.drop(df1.index[0:30],0,inplace=True)\n",
        "df1"
      ],
      "metadata": {
        "id": "e9s1YuAw8VhY"
      },
      "execution_count": null,
      "outputs": []
    },
    {
      "cell_type": "code",
      "source": [
        "#Value column loaded int a new dataframe\n",
        "df2 = df1['Value']\n",
        "df2"
      ],
      "metadata": {
        "colab": {
          "base_uri": "https://localhost:8080/"
        },
        "id": "khcGUZfjhtcg",
        "outputId": "145464d1-b553-4ee5-9689-d62a2a00e8b4"
      },
      "execution_count": null,
      "outputs": [
        {
          "output_type": "execute_result",
          "data": {
            "text/plain": [
              "642     64.3\n",
              "663     78.4\n",
              "684     76.6\n",
              "711     60.5\n",
              "735     76.8\n",
              "        ... \n",
              "4812    75.3\n",
              "4833    69.9\n",
              "4854    66.0\n",
              "4875    63.3\n",
              "4896    60.8\n",
              "Name: Value, Length: 201, dtype: object"
            ]
          },
          "metadata": {},
          "execution_count": 9
        }
      ]
    },
    {
      "cell_type": "code",
      "source": [
        "import numpy as np\n",
        "#converting Value column to numpy array\n",
        "num = df2.to_numpy(dtype = 'float32')\n",
        "print(num)"
      ],
      "metadata": {
        "colab": {
          "base_uri": "https://localhost:8080/"
        },
        "id": "Dz5Ku6PlNoD0",
        "outputId": "646bee42-4539-4ac4-d929-a4b1804b98f3"
      },
      "execution_count": null,
      "outputs": [
        {
          "output_type": "stream",
          "name": "stdout",
          "text": [
            "[64.3 78.4 76.6 60.5 76.8 76.4 74.9 76.1 83.2 81.4 72.8 73.7 77.1 72.2\n",
            " 79.  74.5 81.4 74.4 61.3 71.3 71.1 77.2 69.1 75.6 75.7 74.8 60.9 61.\n",
            " 72.7 69.4 58.8 82.2 52.7 53.8 82.8 80.  76.6 84.6 84.  77.  64.  64.2\n",
            " 80.  57.2 78.2 78.7 78.6 80.7 79.1 72.  60.2 80.7 66.5 73.8 76.7 71.7\n",
            " 73.  58.2 65.7 78.5 59.3 66.  67.3 81.6 82.5 79.7 77.4 66.1 61.5 73.5\n",
            " 81.1 63.7 82.  72.4 81.8 79.8 73.9 61.  57.8 69.7 63.5 75.  76.6 82.8\n",
            " 69.3 71.4 76.3 70.4 82.  82.7 83.3 74.3 84.4 74.3 73.2 66.2 68.  75.3\n",
            " 71.2 67.4 75.1 78.8 53.5 63.6 72.7 75.7 82.  66.5 63.4 75.9 78.5 58.7\n",
            " 82.3 82.3 64.6 74.8 79.3 75.  67.7 69.5 76.7 76.3 60.1 66.8 63.  70.3\n",
            " 82.1 77.3 82.1 74.2 61.8 54.2 82.2 77.5 80.2 67.  78.2 64.2 74.1 76.4\n",
            " 71.  78.5 81.8 79.9 80.  82.8 71.7 80.  75.8 72.3 68.4 76.  72.4 73.1\n",
            " 70.  74.9 67.5 75.8 73.3 54.1 83.4 77.3 81.1 72.8 56.9 63.6 57.4 83.4\n",
            " 76.7 73.8 64.9 71.5 82.6 83.6 71.3 70.8 76.8 75.6 69.2 60.5 70.7 73.3\n",
            " 76.4 77.3 68.  62.8 71.8 77.7 81.2 64.8 78.8 80.3 77.7 71.5 70.2 72.1\n",
            " 75.3 69.9 66.  63.3 60.8]\n"
          ]
        }
      ]
    },
    {
      "cell_type": "code",
      "source": [
        "print(\"The size of the array is\", len(num))"
      ],
      "metadata": {
        "id": "CkxE_MwgO0Ww",
        "colab": {
          "base_uri": "https://localhost:8080/"
        },
        "outputId": "7416ddef-e706-42f0-fbf4-2ce6f1fcf8d8"
      },
      "execution_count": null,
      "outputs": [
        {
          "output_type": "stream",
          "name": "stdout",
          "text": [
            "The size of the array is 201\n"
          ]
        }
      ]
    },
    {
      "cell_type": "code",
      "source": [
        "#Calculate mean and median\n",
        "mean = np.mean(num)\n",
        "median = np.median(num)\n",
        "print('Mean: {:.2f} '.format(mean))\n",
        "print('Median:',median)\n"
      ],
      "metadata": {
        "id": "UY2v14_kO877",
        "colab": {
          "base_uri": "https://localhost:8080/"
        },
        "outputId": "86353a9c-02a7-4c88-8892-6280d8723ee5"
      },
      "execution_count": null,
      "outputs": [
        {
          "output_type": "stream",
          "name": "stdout",
          "text": [
            "Mean: 72.72 \n",
            "Median: 74.2\n"
          ]
        }
      ]
    },
    {
      "cell_type": "code",
      "source": [
        "import matplotlib.pyplot as plt\n",
        "# Plotting a histogram\n",
        "plt.hist(num, bins =10 )\n",
        "#adding vertical lines to show mean and median\n",
        "plt.axvline(mean,color=\"red\", label = 'Mean')\n",
        "plt.axvline(median,color=\"blue\", label = 'Median')\n",
        "plt.title(\"Life expectancy at birth for both sexes (years)\")\n",
        "# adding axis labels\n",
        "plt.xlabel('Life expectancy values')\n",
        "plt.ylabel('Density')\n",
        "plt.legend()\n",
        "plt.show()\n",
        "#Skewness is calculated to check if graph is a normal distribution\n",
        "Skew_val = 3*(mean-median)/np.std(num)\n",
        "print(\"The skewness of the distribution is {:.2f}\".format(Skew_val))"
      ],
      "metadata": {
        "id": "pLqkaXfIUh0-",
        "colab": {
          "base_uri": "https://localhost:8080/",
          "height": 312
        },
        "outputId": "5612876c-2c87-493a-cbbb-4aaeb93124e4"
      },
      "execution_count": null,
      "outputs": [
        {
          "output_type": "display_data",
          "data": {
            "text/plain": [
              "<Figure size 432x288 with 1 Axes>"
            ],
            "image/png": "[encoded data removed]"
          },
          "metadata": {
            "needs_background": "light"
          }
        },
        {
          "output_type": "stream",
          "name": "stdout",
          "text": [
            "The skewness of the distribution is -0.59\n"
          ]
        }
      ]
    },
    {
      "cell_type": "markdown",
      "source": [
        "The distribution is skewed as it's not symmetrical. The value of median is greater than the mean. It is negatively skewed as the left side has a longer tail. This is indicated by the negative value of skewness."
      ],
      "metadata": {
        "id": "bgMLS7Yz0s8b"
      }
    },
    {
      "cell_type": "code",
      "source": [
        "#Percentiles are calculated\n",
        "q25 = np.quantile(num, 0.25)\n",
        "print(\"First quartile : \",q25)\n",
        "q50 = np.quantile(num, 0.5)\n",
        "print(\"second quartile : {:.2f}\".format(q50))\n",
        "q75 = np.quantile(num, 0.75)\n",
        "print(\"third quartile\",q75)"
      ],
      "metadata": {
        "colab": {
          "base_uri": "https://localhost:8080/"
        },
        "id": "jhyl98PHrN7-",
        "outputId": "8612e70b-1afc-4639-898e-ddb66c051f8b"
      },
      "execution_count": null,
      "outputs": [
        {
          "output_type": "stream",
          "name": "stdout",
          "text": [
            "First quartile :  67.5\n",
            "second quartile : 74.20\n",
            "third quartile 78.5\n"
          ]
        }
      ]
    },
    {
      "cell_type": "code",
      "source": [
        "max1= np.max(num)\n",
        "min1= np.min(num)\n",
        "#Range is maximum - minimum value\n",
        "range= max1 - min1\n",
        "# Interquartile range is third quartile - first quartile\n",
        "IQR = q75-q25\n",
        "std = np.std(num)\n",
        "mst = mean+ std\n",
        "m2st = mean - std\n",
        "#The required values are displayed\n",
        "print(\"Range : {:.2f}\".format(range))\n",
        "print(\"Interquartile range : {:.2f}\".format(IQR))\n",
        "print(\"Standard deviation : {:.2f}\".format(std))\n",
        "print(\"Mean + Standard deviation : {:.2f}\".format(mst))\n",
        "print(\"Mean - Standard deviation : {:.2f}\".format(m2st))\n",
        "print(\"Interquartile range : {:.2f}\".format(IQR))"
      ],
      "metadata": {
        "colab": {
          "base_uri": "https://localhost:8080/"
        },
        "id": "BsReQ5awrelO",
        "outputId": "0651455a-cb9e-4818-9fe7-180816800584"
      },
      "execution_count": null,
      "outputs": [
        {
          "output_type": "stream",
          "name": "stdout",
          "text": [
            "Range : 31.90\n",
            "Interquartile range : 11.00\n",
            "Standard deviation : 7.58\n",
            "Mean + Standard deviation : 80.30\n",
            "Mean - Standard deviation : 65.14\n",
            "Interquartile range : 11.00\n"
          ]
        }
      ]
    },
    {
      "cell_type": "code",
      "source": [
        "# Plotting a histogram\n",
        "graph = plt.hist(num, bins = 10)\n",
        "# Displaying vertical line for standard deviation, quartiles and mean\n",
        "plt.axvline(mst,color=\"black\", label='Mean + standard deviation')\n",
        "plt.axvline(q25,color=\"green\", label = '1st quartile')\n",
        "plt.axvline(q75,color=\"purple\", label = '3rd quartile')\n",
        "plt.axvline(m2st,color=\"yellow\", label ='Mean - Standard deviation')\n",
        "plt.title(\"Life expectancy at birth for both sexes (years)\")\n",
        "# adding axis labels\n",
        "plt.xlabel('Life expectancy values')\n",
        "plt.ylabel('Density')\n",
        "plt.legend()"
      ],
      "metadata": {
        "colab": {
          "base_uri": "https://localhost:8080/",
          "height": 312
        },
        "id": "lDMWCkU9rkRL",
        "outputId": "13604c53-5fe2-469c-c0dc-fafb4cc858a9"
      },
      "execution_count": null,
      "outputs": [
        {
          "output_type": "execute_result",
          "data": {
            "text/plain": [
              "<matplotlib.legend.Legend at 0x7fb09c0e3b50>"
            ]
          },
          "metadata": {},
          "execution_count": 51
        },
        {
          "output_type": "display_data",
          "data": {
            "text/plain": [
              "<Figure size 432x288 with 1 Axes>"
            ],
            "image/png": "[encoded data removed]"
          },
          "metadata": {
            "needs_background": "light"
          }
        }
      ]
    },
    {
      "cell_type": "code",
      "source": [
        "N= 600\n",
        "x1 = np.random.normal(loc=mean+0.00000000001, scale=std+0.000000000001,size=N)\n",
        "xx1 = (num)\n",
        "q = np.linspace(0,100,100)\n",
        "y1=np.percentile(x1,q)\n",
        "yy1= np.percentile(xx1,q)\n",
        "plt.plot(y1,yy1,'o')\n",
        "plt.plot(y1,y1,color='orange')"
      ],
      "metadata": {
        "colab": {
          "base_uri": "https://localhost:8080/",
          "height": 282
        },
        "id": "Si8EU8Ib4vqY",
        "outputId": "a30220c5-8f41-4903-cd84-ad1ad91c74e9"
      },
      "execution_count": null,
      "outputs": [
        {
          "output_type": "execute_result",
          "data": {
            "text/plain": [
              "[<matplotlib.lines.Line2D at 0x7fb09bfb2c10>]"
            ]
          },
          "metadata": {},
          "execution_count": 52
        },
        {
          "output_type": "display_data",
          "data": {
            "text/plain": [
              "<Figure size 432x288 with 1 Axes>"
            ],
            "image/png": "[encoded data removed]"
          },
          "metadata": {
            "needs_background": "light"
          }
        }
      ]
    },
    {
      "cell_type": "markdown",
      "source": [
        "From the QQ plot above, we can infer the graph can represent a normal distribution having a negative skew."
      ],
      "metadata": {
        "id": "k_aLCWH7pxxX"
      }
    },
    {
      "cell_type": "markdown",
      "source": [
        " To model life expectancy, a negatively skewed Normal distribution graph is most ideal. Life expectancy is likely to be concentrated around a particular region. The tail of the distribution is likely to be on the left hand side. "
      ],
      "metadata": {
        "id": "WvqFRJEfiF8B"
      }
    },
    {
      "cell_type": "code",
      "source": [
        "N= 600\n",
        "# Generating 600 random samples using mean and standard deviation \n",
        "rnd_array = np.random.normal(loc= mean, scale= std, size=N)\n",
        "print(\"The random array is :\",rnd_array)\n",
        "# Calculating the new mean and quartile values\n",
        "mn = np.mean(rnd_array)\n",
        "qn25 = np.quantile(rnd_array, 0.25)\n",
        "print(\"First quartile : {:.2f}\".format(qn25))\n",
        "qn50 = np.quantile(rnd_array, 0.5)\n",
        "print(\"Second quartile : {:.2f}\".format(qn50))\n",
        "qn75 = np.quantile(rnd_array, 0.75)\n",
        "print(\"Third quartile : {:.2f}\".format(qn75))\n",
        "print(\"Mean :{:.2f}\".format(mn))"
      ],
      "metadata": {
        "colab": {
          "base_uri": "https://localhost:8080/"
        },
        "id": "74Wf0tC6BwLj",
        "outputId": "b145d1d4-9187-47be-e106-b151031b65aa"
      },
      "execution_count": null,
      "outputs": [
        {
          "output_type": "stream",
          "name": "stdout",
          "text": [
            "The random array is : [87.67584867 62.34001867 82.45156787 72.52822328 67.98479591 81.66231224\n",
            " 77.81168167 77.59300305 68.77043928 78.156419   76.72988986 65.6491607\n",
            " 76.40251185 75.90388708 81.70108767 72.10939523 70.2413977  76.45856965\n",
            " 66.83778128 73.80100233 62.63352194 70.8565426  82.50430558 74.95559112\n",
            " 69.98440617 86.18722033 90.84627594 54.3398488  68.47764772 75.5231996\n",
            " 85.81885796 70.2818282  71.82668341 81.92438091 75.55552445 74.09748342\n",
            " 66.58836034 70.92814005 72.58247469 78.24599774 71.04226951 73.57707481\n",
            " 71.08527206 57.43955342 80.08250648 72.35172463 71.84551763 72.25130474\n",
            " 72.76262775 80.42479871 62.60959717 62.24134652 69.14873076 53.65133255\n",
            " 76.81328308 70.43018629 79.45269181 72.28939219 68.87012246 62.1183019\n",
            " 72.38411593 80.32082074 75.28022029 70.22601216 75.16581914 71.08971623\n",
            " 73.38433527 71.9501623  53.75676279 75.5868017  64.0276173  65.54654385\n",
            " 68.44237079 70.58130779 62.7063793  71.1926207  75.56820522 78.11033765\n",
            " 75.08175964 81.4879751  70.66021441 72.99567261 72.79043038 71.40726808\n",
            " 75.58811969 70.76825815 70.00796057 81.33002058 70.32555253 75.69532599\n",
            " 89.55437424 65.56577443 72.61657202 71.78109437 70.47897387 67.81200037\n",
            " 75.03076959 74.78411853 73.08185155 76.61976778 63.34174163 60.19734062\n",
            " 79.24195674 67.06718919 69.27657016 77.21643318 63.38890368 86.55431397\n",
            " 82.27259671 69.31672753 79.58344878 79.58091175 68.72056837 65.44862369\n",
            " 72.06007236 84.81596796 73.75044713 77.53343314 66.86289842 60.89973762\n",
            " 78.47131102 64.19586423 73.74218107 81.39573417 82.25644281 78.40498887\n",
            " 61.77044837 72.64436041 82.73133189 68.65793975 67.99692012 68.0505952\n",
            " 63.56475521 79.19913667 75.46321945 76.33869231 81.24380489 54.86571264\n",
            " 72.70847261 62.26495318 85.30103137 67.30336162 70.80024227 68.88619466\n",
            " 58.05633398 77.43104704 64.03905949 66.40191478 69.72960083 68.91913264\n",
            " 64.98464091 65.57320195 80.13103167 64.9516445  52.98618463 74.93221273\n",
            " 79.10153841 74.16106059 58.58188579 76.70382992 77.19491379 70.76941545\n",
            " 69.98408726 72.6225552  64.00150344 74.22346026 89.7577142  69.18287817\n",
            " 74.28120437 69.93098038 65.48773186 74.85135698 82.60083823 82.62644089\n",
            " 74.67285991 75.94335555 73.2099536  62.73297053 74.82199616 77.30003448\n",
            " 67.44297355 69.1510155  68.87417405 82.13312989 56.79820451 84.1938191\n",
            " 72.30456022 53.47288763 81.3491127  73.48937578 78.49322744 70.04196624\n",
            " 73.93197274 81.81140376 81.28782976 60.02707782 86.36891733 73.41004103\n",
            " 76.23714217 70.36723319 71.41119133 57.74470047 66.53723271 71.09375303\n",
            " 79.45286851 73.17811003 73.56843661 86.59006903 65.4128584  67.75980122\n",
            " 78.64423621 66.41156644 61.35702822 72.40176659 65.76762192 70.18905205\n",
            " 50.80904972 72.8769643  70.3215041  55.76111254 76.50140966 69.03752301\n",
            " 68.71295616 63.10988777 77.09550636 71.01250247 84.06983445 72.00525256\n",
            " 85.76699498 69.3702936  79.8682477  73.29410588 73.48440224 83.15784725\n",
            " 78.44575346 70.34021847 76.63411622 68.00663658 79.41338686 68.54016259\n",
            " 86.31203129 66.05928985 74.84329147 67.56926479 64.60924086 57.81709867\n",
            " 77.49274305 72.7021525  77.71154648 69.19137009 65.4582747  59.48878963\n",
            " 78.14717992 48.98079167 66.81167508 81.25027233 75.0152683  69.36787602\n",
            " 77.34097385 81.24849629 61.08770553 83.3110332  69.2283833  66.57934677\n",
            " 69.90343466 66.81580822 64.38673534 60.65575399 73.17583822 63.53573706\n",
            " 72.55718093 76.41089483 91.34956338 70.92814373 70.43064642 62.69744683\n",
            " 78.87011039 67.37298068 82.2613601  67.55552037 70.59912251 76.37091402\n",
            " 59.4924314  81.34538051 75.22995065 82.06584176 70.66688931 70.16211353\n",
            " 66.29123732 70.20779953 78.46249957 76.05762844 63.4406059  72.75315848\n",
            " 65.89865125 67.97472204 70.57318599 70.46964399 62.38077308 51.43368919\n",
            " 77.83464188 67.53171716 65.44488089 79.94369735 69.23195683 73.05749247\n",
            " 71.25599997 66.63270446 63.33613139 73.18806866 75.2797821  68.51162028\n",
            " 90.13640591 76.99457756 84.84765528 67.26543727 72.40365785 66.65925006\n",
            " 79.86346323 64.54382794 71.09925107 80.37648132 75.97034994 70.19311286\n",
            " 74.57038631 66.67393804 80.39321815 82.58661249 55.54613465 66.3809647\n",
            " 61.81455173 70.61729023 84.56908967 68.12714193 76.13122253 83.15222107\n",
            " 64.87797637 62.20575114 85.06480237 75.58536182 74.99173795 64.0098984\n",
            " 77.76572299 72.29588081 81.88709298 84.93581614 72.58365623 83.10628301\n",
            " 64.49147355 58.85409199 68.83903711 77.49667204 83.18228605 63.881151\n",
            " 81.36173771 68.7129423  69.19089622 83.67194853 83.28940941 68.0613916\n",
            " 64.44706351 69.73740808 64.65021268 73.17897007 57.21678746 69.99913343\n",
            " 76.34495239 84.74604847 67.06227083 64.84919422 79.11115679 72.25771153\n",
            " 76.20089715 63.41763508 76.32768319 56.88216292 69.99152834 76.26084003\n",
            " 62.57525372 93.54482893 71.40947619 59.75060281 79.77299763 68.50548802\n",
            " 75.24309662 65.58796393 68.39282888 76.86614006 79.45572358 81.27854204\n",
            " 76.06125454 75.86298603 66.55706289 69.32105356 67.27393501 80.91764392\n",
            " 64.34263794 84.06095601 74.32656364 75.07403996 74.55567849 73.06891132\n",
            " 64.26384701 63.27974104 79.09703663 73.12256696 84.7055679  86.20765031\n",
            " 78.39694633 65.00899782 82.14733095 79.69715166 57.73803715 86.11805764\n",
            " 71.70193353 72.63768256 77.22796558 79.95634672 84.10281622 72.30340359\n",
            " 61.94272826 64.32888606 79.23506619 63.11998137 71.5673736  73.48642684\n",
            " 84.68262164 83.38832123 76.86311665 70.11932523 80.34588612 86.34210256\n",
            " 86.42969035 75.45692106 71.12113511 58.64454369 71.39571215 81.04510228\n",
            " 77.97587491 76.49903259 70.8252345  65.43870889 84.30925673 55.72826388\n",
            " 78.74177429 59.43229212 72.12288186 79.0275079  59.70505266 75.36766624\n",
            " 77.86298339 81.11756058 84.2094897  56.76691122 67.57877528 73.60165527\n",
            " 62.34201062 85.2745417  64.74194738 79.07269224 66.59045859 70.98177648\n",
            " 73.94663337 83.8629302  70.84081812 60.86455534 88.36608607 62.46430519\n",
            " 87.07288854 75.69925768 79.1823678  67.96246796 69.07901989 69.54358617\n",
            " 65.88036352 66.3100981  71.20197975 66.45858253 69.47131648 81.4021475\n",
            " 56.94685909 75.14457907 71.62032109 76.22459754 76.78426464 81.10733024\n",
            " 79.10360741 67.02947271 64.46802958 77.16549275 90.35981934 78.53951591\n",
            " 66.8592973  62.27501978 67.17485359 72.05600919 74.06507829 83.54153311\n",
            " 85.2929192  57.04692615 70.34611935 87.42341018 73.09095637 78.21372707\n",
            " 71.5931347  75.84206062 72.14160797 83.14278723 63.962736   65.31040265\n",
            " 69.70016843 79.93325354 64.01457774 68.79363302 78.05891821 68.02259008\n",
            " 56.73098356 75.68987676 79.15210806 68.23787214 62.27432717 59.94649735\n",
            " 69.87093101 68.24873135 76.21676864 81.22837582 73.78496433 67.29168879\n",
            " 72.96511756 75.74968162 71.58140246 88.22056433 88.05537445 68.86462674\n",
            " 70.28974429 87.57131714 63.1227316  72.21839003 76.7797633  80.08302366\n",
            " 76.95895881 66.91715729 67.60867294 60.64772477 65.38329824 77.70415681\n",
            " 73.94090596 65.88836748 76.28029717 71.60351246 76.28930477 69.71662888\n",
            " 63.50139756 57.93414292 65.72914717 80.71053498 73.66441218 77.73895396\n",
            " 67.21797376 71.08309095 51.9563678  79.11631737 67.3690279  63.43072373\n",
            " 70.09053451 66.48760698 65.14416589 82.92423868 70.17718607 81.32934826\n",
            " 62.8240711  71.09605472 65.95760472 58.81531175 84.91991349 82.38217496\n",
            " 81.78582701 54.67630849 70.0031115  73.61592111 78.35035561 75.24771686\n",
            " 80.02926463 87.95794494 70.51749777 75.2060255  68.1324184  70.94623651\n",
            " 74.90395302 70.18733745 71.4891477  64.06338079 74.62579301 86.00980521\n",
            " 75.49475004 83.38025403 86.17022202 73.01208934 67.82105944 69.73571625]\n",
            "First quartile : 67.25\n",
            "Second quartile : 72.27\n",
            "Third quartile : 77.84\n",
            "Mean :72.42\n"
          ]
        }
      ]
    },
    {
      "cell_type": "code",
      "source": [
        "plt.hist(rnd_array, bins =10)\n",
        "plt.axvline(mn,color=\"red\", label = 'Mean')\n",
        "plt.axvline(qn25,color=\"green\", label = '1st quartile')\n",
        "plt.axvline(qn50,color=\"orange\", label = '2nd quartile')\n",
        "plt.axvline(qn75,color=\"purple\", label = '3rd quartile')\n",
        "plt.title(\"Life expectancy at birth for both sexes (years)\")\n",
        "# adding axis labels\n",
        "plt.xlabel('Life expectancy values')\n",
        "plt.ylabel('Density')\n",
        "plt.legend()"
      ],
      "metadata": {
        "colab": {
          "base_uri": "https://localhost:8080/",
          "height": 312
        },
        "id": "ZWq-CaeHT61n",
        "outputId": "dcc7fb9b-b300-4c14-ecca-6e5a1f19037b"
      },
      "execution_count": null,
      "outputs": [
        {
          "output_type": "execute_result",
          "data": {
            "text/plain": [
              "<matplotlib.legend.Legend at 0x7fb09bfd8fd0>"
            ]
          },
          "metadata": {},
          "execution_count": 54
        },
        {
          "output_type": "display_data",
          "data": {
            "text/plain": [
              "<Figure size 432x288 with 1 Axes>"
            ],
            "image/png": "[encoded data removed]"
          },
          "metadata": {
            "needs_background": "light"
          }
        }
      ]
    },
    {
      "cell_type": "markdown",
      "source": [
        "The N value is adjusted to 600 so that the graph generated after sampling is a bit similar to the graph generated previously. The values are as follows:\n",
        "First quartile : 67.25\n",
        "Second quartile : 72.27\n",
        "Third quartile : 77.84\n",
        "Mean :72.42\n",
        "These values are similar to the values obtained in the graph before sampling.\n",
        "\n"
      ],
      "metadata": {
        "id": "yrfwzeyXsQf_"
      }
    }
  ]
}